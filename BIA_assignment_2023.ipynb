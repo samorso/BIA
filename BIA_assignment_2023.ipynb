{
  "cells": [
    {
      "cell_type": "markdown",
      "metadata": {
        "id": "view-in-github",
        "colab_type": "text"
      },
      "source": [
        "<a href=\"https://colab.research.google.com/github/samorso/BIA/blob/main/BIA_assignment_2023.ipynb\" target=\"_parent\"><img src=\"https://colab.research.google.com/assets/colab-badge.svg\" alt=\"Open In Colab\"/></a>"
      ]
    },
    {
      "cell_type": "markdown",
      "metadata": {
        "id": "thDRPG62ML5N"
      },
      "source": [
        "<h1 align=\"center\"> GRADED ASSIGNMENT</h1>\n",
        "\n",
        "<div>\n",
        "<td>\n",
        "<img src=\"https://upload.wikimedia.org/wikipedia/commons/thumb/2/2b/Logo_Universit%C3%A9_de_Lausanne.svg/2000px-Logo_Universit%C3%A9_de_Lausanne.svg.png\" style=\"padding-right:10px;width:240px;float:left\"/></td>\n",
        "<h2 style=\"white-space: nowrap\">Business Intelligence and Analytics</h2></td>\n",
        "<hr style=\"clear:both\">\n",
        "<p style=\"font-size:0.85em; margin:2px; text-align:justify\">\n",
        "\n",
        "</div>"
      ]
    },
    {
      "cell_type": "markdown",
      "metadata": {
        "id": "fqhjIaf-moHf"
      },
      "source": [
        "Welcome to the Assignment!\n",
        "\n",
        "This notebooks contains two **independent** tasks. You will have to complete both tasks to receive a grade.\n",
        "- The first task is about a Youtube video dataset.\n",
        "- The second task is about a financial dataset on credit information of clients\n",
        "\n",
        "In each part, we will provide you with a set of questions. You will have to answer these questions by writing code in the corresponding cells before ansering the quiz questions on Moodle.\n",
        "Then, you will have to perform the following two steps:\n",
        "- Answer the quiz questions on Moodle.\n",
        "- Submit this notebook on Moodle\n",
        "\n",
        "Make sure to follow all instructions carefully.\n",
        "\n",
        "Good luck! 🍀\n",
        "\n",
        "**Note**: Have your notebook with the answers ready for answering the quiz.\n",
        "\n",
        "**Questions**: You can post your questions in Moodle in the dedicated forum. No questions will be answered by email.\n",
        "\n",
        "When creating a question, please make sure to provide a clear description of your problem and the code you have already tried.\n",
        "\n",
        "Also in the object  of the message, use the following format: Part X - Question Y.Z where :\n",
        "- X is the part number,\n",
        "- Y is the question number\n",
        "- Z is the sub-question number."
      ]
    },
    {
      "cell_type": "markdown",
      "metadata": {
        "id": "s9syfj48o8JA"
      },
      "source": [
        "## PART I - DATA CLEANING AND EXPLORATION\n",
        "First a few preliminary steps to set you up. You can execute the cells below to get you started."
      ]
    },
    {
      "cell_type": "code",
      "execution_count": null,
      "metadata": {
        "id": "KbBjnc2xmnDW"
      },
      "outputs": [],
      "source": [
        "# Import required packages\n",
        "# You should not need additonal packages for this part but you can import any package you want\n",
        "\n",
        "import pandas as pd\n",
        "import numpy as np\n",
        "import matplotlib.pyplot as plt\n",
        "import seaborn as sns\n",
        "\n",
        "%matplotlib inline\n",
        "sns.set_style('darkgrid')\n",
        "\n",
        "# Do not change the following line\n",
        "pd.set_option('display.float_format', lambda x: '%.2f' % x)"
      ]
    },
    {
      "cell_type": "code",
      "execution_count": null,
      "metadata": {
        "id": "p7XvZInZML5Z"
      },
      "outputs": [],
      "source": [
        "pd.read_csv('https://storage.googleapis.com/bia-assignment/youtube.csv')"
      ]
    },
    {
      "cell_type": "code",
      "execution_count": null,
      "metadata": {
        "id": "NrlTbxuWpLn8"
      },
      "outputs": [],
      "source": [
        "# Load the data\n",
        "df = pd.read_csv('https://storage.googleapis.com/bia-assignment/youtube.csv')\n",
        "\n",
        "# Visualise first 3 rows\n",
        "df.sort_values(by='upload_date', ascending=False).head(3)"
      ]
    },
    {
      "cell_type": "markdown",
      "metadata": {
        "id": "JUy85CCApovj"
      },
      "source": [
        "This Youtube dataset contains informations about multiple videos uploaded on youtube.\n",
        "- **channel** : the channel id of that has uploaded the video\n",
        "- **upload_date** : the date when the video has been uploaded on Youtube\n",
        "- **title** : the title of the video\n",
        "- **tags** : a list of tags that the author of the video has allocated to its video\n",
        "- **duration** : the duration of the video in seconds\n",
        "- **view_count** : the number of views of a video\n",
        "- **average_rating** : the average rating of the video when the metadata have been extracted\n",
        "- **height, width** : the maxinal resolution of the video\n",
        "- **channel_cat** : the category to which the channel belongs"
      ]
    },
    {
      "cell_type": "markdown",
      "metadata": {
        "id": "Af0rd8CPrg_r"
      },
      "source": [
        "### Question 1. How many observations (rows) and columns does the dataset contain?\n",
        "Print the number of rows and colums of the dataset."
      ]
    },
    {
      "cell_type": "code",
      "execution_count": null,
      "metadata": {
        "id": "7HOzM_sJrgRM"
      },
      "outputs": [],
      "source": [
        "# YOUR CODE HERE\n",
        "nb_rows = ...\n",
        "nb_cols = ...\n",
        "print('Number of rows: ', nb_rows, sep='\\t')\n",
        "print('Number of columns: ', nb_cols, sep='\\t')"
      ]
    },
    {
      "cell_type": "markdown",
      "metadata": {
        "id": "bUoTjOmOs5Ew"
      },
      "source": [
        "Print the number of null values in each column"
      ]
    },
    {
      "cell_type": "code",
      "execution_count": null,
      "metadata": {
        "id": "Pz7_Q77NML5b"
      },
      "outputs": [],
      "source": [
        "# YOUR CODE HERE"
      ]
    },
    {
      "cell_type": "markdown",
      "metadata": {
        "id": "QAMuxz12ML5b"
      },
      "source": [
        "Now please check what are the data types of the different attributes (columns)."
      ]
    },
    {
      "cell_type": "code",
      "execution_count": null,
      "metadata": {
        "id": "y5mbuGOitC-5"
      },
      "outputs": [],
      "source": [
        "# YOUR CODE HERE"
      ]
    },
    {
      "cell_type": "markdown",
      "metadata": {
        "id": "zGb2GIUWtX8p"
      },
      "source": [
        "Change the data type for the following columns: upload_date.\n",
        "It should now be a date.\n",
        "\n",
        "**Hint**: make sure that days, month, year are encoded correctly. For this you can check what the date looks like before and after the encoding."
      ]
    },
    {
      "cell_type": "code",
      "execution_count": null,
      "metadata": {
        "id": "PpxVbbuQttyn"
      },
      "outputs": [],
      "source": [
        "# YOUR CODE HERE\n",
        "df['upload_date'] = ..."
      ]
    },
    {
      "cell_type": "markdown",
      "metadata": {
        "id": "O-tRXMTWvVBi"
      },
      "source": [
        "### Question 2. For which order period have these data samples been collected?"
      ]
    },
    {
      "cell_type": "markdown",
      "metadata": {
        "id": "h8hdB4s2ML5c"
      },
      "source": [
        "#### Question 2.1: What is the upload date of the oldest video ? and of the most recent video ?"
      ]
    },
    {
      "cell_type": "code",
      "execution_count": null,
      "metadata": {
        "id": "ikVQNUBzveL5",
        "colab": {
          "base_uri": "https://localhost:8080/"
        },
        "outputId": "2998441a-7a7b-47fc-97cb-6d837d848cee"
      },
      "outputs": [
        {
          "output_type": "stream",
          "name": "stdout",
          "text": [
            "The minimum upload date is Ellipsis\n",
            "The maximum upload date is Ellipsis\n"
          ]
        }
      ],
      "source": [
        "# YOUR CODE HERE\n",
        "min_date = ...\n",
        "max_date = ...\n",
        "print(f\"The minimum upload date is {min_date}\")\n",
        "print(f\"The maximum upload date is {max_date}\")"
      ]
    },
    {
      "cell_type": "markdown",
      "metadata": {
        "id": "owKgvlSFML5c"
      },
      "source": [
        "#### Question 2.2: What is the view count of the oldest video? and of the newest video?\n",
        "**Note:** In case there are multiple videos with the same upload date, you can take the one with the maximum view count."
      ]
    },
    {
      "cell_type": "code",
      "execution_count": null,
      "metadata": {
        "colab": {
          "base_uri": "https://localhost:8080/"
        },
        "id": "hFdGa6FEML5c",
        "outputId": "e79138a8-1e41-427b-ae35-6aed9befbf99"
      },
      "outputs": [
        {
          "output_type": "stream",
          "name": "stdout",
          "text": [
            "The oldest video has Ellipsis views\n",
            "The most recent video has Ellipsis views\n"
          ]
        }
      ],
      "source": [
        "# YOUR CODE HERE\n",
        "oldest_video_view = ...\n",
        "print(f\"The oldest video has {oldest_video_view} views\")\n",
        "\n",
        "most_recent_video_view = ...\n",
        "print(f\"The most recent video has {most_recent_video_view} views\")"
      ]
    },
    {
      "cell_type": "markdown",
      "metadata": {
        "id": "s5icPwziwAym"
      },
      "source": [
        "### Question 3. Categories analysis"
      ]
    },
    {
      "cell_type": "markdown",
      "metadata": {
        "id": "iRX-2TW8ML5d"
      },
      "source": [
        "#### Question 3.1: What are the average view count and total view count per category (\"Gaming\" and \"Howto & Stlye\") ?\n",
        "**Hint**: Use the [`group_by()`](https://pandas.pydata.org/pandas-docs/stable/reference/api/pandas.DataFrame.groupby.html) function and refer to its documentation for examples on how to use it. The function `group_by()` is used to group the data by a certain column and is then followed by an aggregation function such as `sum()` or `mean()` which will be applied to the grouped data.\n",
        "For example, to get the average income per country, you can use the following code:\n",
        "```python\n",
        "```python\n",
        "df.groupby('country')['income'].mean()\n",
        "```\n",
        "\n",
        "Or if you want to get different statistics for different columns, you can use the following code:\n",
        "```python\n",
        "df.groupby('country').agg({'population': 'sum', 'income': ['mean', 'sdt']})\n",
        "```\n",
        "This will return a dataframe with the sum of the population and the mean and standard deviation of the average income per country."
      ]
    },
    {
      "cell_type": "code",
      "execution_count": null,
      "metadata": {
        "id": "7IRv8Vwpwvzt"
      },
      "outputs": [],
      "source": [
        "# YOUR CODE HERE"
      ]
    },
    {
      "cell_type": "markdown",
      "metadata": {
        "id": "8-V4-K0YML5d"
      },
      "source": [
        "#### Question 3.2: On one graph, plot monthly views for each channel category with a lineplot.\n",
        "**Hint:** You may want to add new columns such as month and year and then do a groupy on these two columns by for the plot. Alternatively, another option is to use the [`resample()`](https://pandas.pydata.org/pandas-docs/stable/reference/api/pandas.DataFrame.resample.html) function."
      ]
    },
    {
      "cell_type": "code",
      "execution_count": null,
      "metadata": {
        "id": "N-R3dhOgML5d"
      },
      "outputs": [],
      "source": [
        "# Add columns for year and month\n",
        "# YOUR CODE HERE"
      ]
    },
    {
      "cell_type": "code",
      "execution_count": null,
      "metadata": {
        "id": "ZFfDezGgML5e"
      },
      "outputs": [],
      "source": [
        "# Create a figure and plot the line chart of average views for the category Gaming\n",
        "# YOUR CODE HERE"
      ]
    },
    {
      "cell_type": "markdown",
      "metadata": {
        "id": "PsbjlnfFML5e"
      },
      "source": [
        "#### Question 3.3: What is the correlation between the average monthly views of each channel category for the year 2012 ?\n",
        "__Hint :__ You may want to filter data for the year 2012 first, then get monthly average views as a time series for both channels before computing the correlation."
      ]
    },
    {
      "cell_type": "code",
      "execution_count": null,
      "metadata": {
        "id": "Qsta1OwjML5e"
      },
      "outputs": [],
      "source": [
        "# YOUR CODE HERE"
      ]
    },
    {
      "cell_type": "markdown",
      "metadata": {
        "id": "w6-mD_F1xKzN"
      },
      "source": [
        "### Question 4. Number of tags and the average rating of the videos"
      ]
    },
    {
      "cell_type": "markdown",
      "metadata": {
        "id": "azKKob3_ML5e"
      },
      "source": [
        "#### Question 4.1: Add a colum to the dataframe that contains the number of tags related to this video"
      ]
    },
    {
      "cell_type": "code",
      "execution_count": null,
      "metadata": {
        "id": "yp2RTOQgML5f"
      },
      "outputs": [],
      "source": [
        "# YOUR CODE HERE"
      ]
    },
    {
      "cell_type": "markdown",
      "metadata": {
        "id": "s6BX2fdtML5f"
      },
      "source": [
        "#### Question 4.2: Compute the correlation between the number of tags and the average rating of videos"
      ]
    },
    {
      "cell_type": "code",
      "execution_count": null,
      "metadata": {
        "id": "HTkk1L1-ML5f"
      },
      "outputs": [],
      "source": [
        "# YOUR CODE HERE"
      ]
    },
    {
      "cell_type": "markdown",
      "metadata": {
        "id": "hTO8tQ_sML5f"
      },
      "source": [
        "#### Question 4.3: Compute the correlation between the length of the title and the average rating of videos"
      ]
    },
    {
      "cell_type": "code",
      "execution_count": null,
      "metadata": {
        "id": "mcPrB4zvML5f"
      },
      "outputs": [],
      "source": [
        "# YOUR CODE HERE"
      ]
    },
    {
      "cell_type": "markdown",
      "metadata": {
        "id": "dugn_inryN-z"
      },
      "source": [
        "### Question 5. Average duration of videos"
      ]
    },
    {
      "cell_type": "markdown",
      "metadata": {
        "id": "x474MAXhML5g"
      },
      "source": [
        "#### Question 5.1: Compute the average duration of videos each year."
      ]
    },
    {
      "cell_type": "code",
      "execution_count": null,
      "metadata": {
        "id": "jqN0ORBKML5g"
      },
      "outputs": [],
      "source": [
        "# Compute the average duration of videos each year."
      ]
    },
    {
      "cell_type": "markdown",
      "metadata": {
        "id": "26W9vJIIML5g"
      },
      "source": [
        "#### Question 5.2: Plot the average duration of video per year for both categories on the same plot."
      ]
    },
    {
      "cell_type": "code",
      "execution_count": null,
      "metadata": {
        "id": "lFmlIqrZzCsW"
      },
      "outputs": [],
      "source": [
        "# YOUR CODE HERE"
      ]
    },
    {
      "cell_type": "markdown",
      "metadata": {
        "id": "y6Q9dfLR2MgP"
      },
      "source": [
        "## PART II - CLASSIFICATION\n",
        "For the second part, we will use a bank related dataset.   \n",
        "The dataset contains information on a company's employees such as:\n",
        "\n",
        "* customer ID\n",
        "* customer age\n",
        "* gender\n",
        "* education level\n",
        "* marital status\n",
        "* income category\n",
        "* credit limit\n",
        "* ...\n"
      ]
    },
    {
      "cell_type": "code",
      "execution_count": null,
      "metadata": {
        "id": "SdTDw245ML5h"
      },
      "outputs": [],
      "source": [
        "# All necessary imports\n",
        "# You should not need additonal packages for this part but you can import any package you want\n",
        "\n",
        "from sklearn.cluster import KMeans\n",
        "import pandas as pd\n",
        "import numpy as np\n",
        "import plotly.express as px\n",
        "import matplotlib.pyplot as plt\n",
        "import seaborn as sns\n",
        "\n",
        "%matplotlib inline\n",
        "sns.set_style('darkgrid')\n",
        "\n",
        "# Do not change the following line\n",
        "pd.set_option('display.float_format', lambda x: '%.2f' % x)"
      ]
    },
    {
      "cell_type": "markdown",
      "metadata": {
        "id": "baiC-1iwML5h"
      },
      "source": [
        "### Load the data"
      ]
    },
    {
      "cell_type": "markdown",
      "metadata": {
        "id": "xDeb051WML5i"
      },
      "source": [
        "Load the dataset in a dataframe called `df` and visualise the first 5 rows."
      ]
    },
    {
      "cell_type": "code",
      "execution_count": null,
      "metadata": {
        "id": "84sJKwfHML5i"
      },
      "outputs": [],
      "source": [
        "# Load the data\n",
        "df = pd.read_csv('https://storage.googleapis.com/bia-assignment/bank_data.csv')\n",
        "\n",
        "df.sample(5)"
      ]
    },
    {
      "cell_type": "markdown",
      "metadata": {
        "id": "rN5LGfqMML5i"
      },
      "source": [
        "### Question 1: Data Exploration"
      ]
    },
    {
      "cell_type": "markdown",
      "metadata": {
        "id": "1aXR-AWbML5i"
      },
      "source": [
        "#### Question 1.1 Create an historgam of the Education_Level column to get a sense of the data distribution for this column. What is the most common education level of the customers?"
      ]
    },
    {
      "cell_type": "code",
      "execution_count": null,
      "metadata": {
        "id": "CynvFMQFML5i"
      },
      "outputs": [],
      "source": [
        "# YOUR CODE HERE"
      ]
    },
    {
      "cell_type": "markdown",
      "metadata": {
        "id": "FaeBeQl9ML5j"
      },
      "source": [
        "#### Question 1.2 What is the age distribution of the people from the dataset ? Plot its distribution.\n",
        "__Hint :__ Plot histogram from the _Customer_Age_ feature."
      ]
    },
    {
      "cell_type": "code",
      "execution_count": null,
      "metadata": {
        "id": "U-InespBML5j"
      },
      "outputs": [],
      "source": [
        "# YOUR CODE HERE"
      ]
    },
    {
      "cell_type": "markdown",
      "metadata": {
        "id": "S1kkfYoJML5j"
      },
      "source": [
        "#### Question 1.3 Does the data distribution for the Customer_Age column look to follow a normal distribution? Compute the mean, standard deviation, skewness and kurtosis of the distribution.\n",
        "__Hint :__ You may want to use the [`skew()`](https://docs.scipy.org/doc/scipy/reference/generated/scipy.stats.skew.html) function from the scipy library. For the kurtosis, you can use the [`kurtosis()`](https://docs.scipy.org/doc/scipy/reference/generated/scipy.stats.kurtosis.html) function. <br>\n",
        "If you want to test the normality of the distribution, you can use tjhe ktest function from the scipy library. For example, to test if the distribution of the Customer_Age column is normal, you can use the following code:\n",
        "```python\n",
        "from scipy.stats import kstest\n",
        "kstest(df['column_tot_test'], 'norm')\n",
        "```\n",
        "Another alternative is to use jarque_bera test from the statsmodels library. You can refer to the documentation for more information on how to use it on the following link: https://www.statsmodels.org/stable/generated/statsmodels.stats.stattools.jarque_bera.html\n",
        "\n",
        "The skewness and kurtosis of a normal distribution are respectively 0 and 3. If the skewness is between -0.5 and 0.5, the data are fairly symmetrical. If the skewness is between -1 and – 0.5 or between 0.5 and 1, the data are moderately skewed. If the skewness is less than -1 or greater than 1, the data are highly skewed. A negative skewness indicates that the tail on the left side of the distribution is longer or fatter. A positive skewness indicates that the tail on the right side is longer or fatter. The kurtosis is a measure of whether the data are heavy-tailed or light-tailed relative to a normal distribution. That is, data sets with high kurtosis tend to have heavy tails, or outliers. Data sets with low kurtosis tend to have light tails, or lack of outliers. A uniform distribution would be the extreme case."
      ]
    },
    {
      "cell_type": "code",
      "execution_count": null,
      "metadata": {
        "id": "Gp42-5nQML5j"
      },
      "outputs": [],
      "source": [
        "# YOUR CODE HERE"
      ]
    },
    {
      "cell_type": "markdown",
      "metadata": {
        "id": "uekpZmv9ML5j"
      },
      "source": [
        "### Question 2. Convert categrocial columns to numerical\n",
        "At this point, we will change some of the values in the dataset in order be able to work with these features. <br>\n",
        "Indeed a clustering algorithm is based on distances between the data points. Therefore, we need to have numeric values instead of categorical variables.<br>\n",
        "\n",
        "For this reason, we will perform the following mapping:\n",
        "- We will map `Men` to 0 and `Female` to 1 of the column `Gender`\n",
        "- We will also convert the `Income_Category` to a numeric value, where we will assume that the higher the income, the more likely the customer is to have a credit card. You should do the following mapping:\n",
        "\n",
        "| Categorical Value (to be replaced)     | Numerical Value (new value to overwrite the categorical variable)     |\n",
        "| -----------       | -----------   |\n",
        "| 'Unknown'         |  -1           |\n",
        "| '$120K +'         |  120          |\n",
        "| '$80K - $120K'    |  80           |\n",
        "| '$60K - $80K'     | 60            |\n",
        "| '$40K - $60K'     | 40            |\n",
        "| 'Less than $40K'  | 0             |\n",
        "\n",
        "- We will also convert the `Education_Level` to a numeric value, where we will assume that the higher the education level, the more likely the customer is to have a credit card. Here again, you should respect the following convention:\n",
        "\n",
        "| Categorical Value (to be replaced)     | Numerical Value (new value to overwrite the categorical variable)     |\n",
        "| -----------       | -----------   |\n",
        "| 'Unknown'         |  -1           |\n",
        "| 'Uneducated'      |   1           |\n",
        "| 'High School'     |  2            |\n",
        "| 'College'         | 3             |\n",
        "| 'Graduate'        | 4             |\n",
        "| 'Post-Graduate'   | 5             |\n",
        "| 'Doctorate'       | 6             |\n",
        "\n",
        "**Hint :** You may want to use the [`map()`](https://pandas.pydata.org/pandas-docs/stable/reference/api/pandas.Series.map.html) function applied to a column of a dataframe."
      ]
    },
    {
      "cell_type": "code",
      "execution_count": null,
      "metadata": {
        "id": "dvklDozEML5k"
      },
      "outputs": [],
      "source": [
        "# Convert categorical variables to numerical variables"
      ]
    },
    {
      "cell_type": "code",
      "execution_count": null,
      "metadata": {
        "id": "lXYa1CrNML5k"
      },
      "outputs": [],
      "source": [
        "# Here we drop all rows with missing values\n",
        "df[['Customer_Age' , 'Gender', 'Income_Category', 'Education_Level', 'Credit_Limit']].dropna(axis=0, how='any')\n",
        "# We can see that there are no missing values in the columns we are interested in as the number of rows is the same as before"
      ]
    },
    {
      "cell_type": "code",
      "execution_count": null,
      "metadata": {
        "id": "9w2w0UjcML5k"
      },
      "outputs": [],
      "source": [
        "# Keep only numerical columns of the dataframe\n",
        "# These columns are the ones we are interested in as they can be used to cluster the customers\n",
        "\n",
        "df_num = df.select_dtypes(include=np.number)\n",
        "df_num"
      ]
    },
    {
      "cell_type": "markdown",
      "metadata": {
        "id": "kbvNK0i4ML5k"
      },
      "source": [
        "### Question 3. Use the elbow method to find the optimal number of clusters for following feartures: _Customer_Age, Gender, Income_Category, Education_Level, Credit_Limit_\n",
        "#### Question 3.1 : What is the inertia for 3 and 4 clusters ? (rounded to the nearest integer)\n",
        "Refer to the lab 5 for any help about the methodology. <br>\n",
        "__Hint:__ You should test between 2 to 10 clusters. Also, when you call the `KMeans` function, you should set the `random_state` paramter to 111 and the `n_init` to 50. This will ensure that the results are reproducible."
      ]
    },
    {
      "cell_type": "code",
      "execution_count": null,
      "metadata": {
        "id": "2BDqqJe1ML5l"
      },
      "outputs": [],
      "source": [
        "# YOU CODE HERE"
      ]
    },
    {
      "cell_type": "markdown",
      "metadata": {
        "id": "kx9gSkl0ML5l"
      },
      "source": [
        "### Question 4. Use the elbow method to find the optimal number of clusters for following features: _Income_Category, Education_Level, Months_on_book_\n",
        "#### Question 4.1 : What is the optimal number of cluster for this sub dataset ?\n",
        "Refer to the lab 5 for any help about the methodology. <br>\n",
        "__Hint:__ You should test between 2 to 10 clusters. Also, when you call the `KMeans` function, you should set the `random_state` paramter to 111 and the `n_init` to 50. This will ensure that the results are reproducible."
      ]
    },
    {
      "cell_type": "code",
      "execution_count": null,
      "metadata": {
        "id": "B-nwmZlHML5l"
      },
      "outputs": [],
      "source": [
        "# YOU CODE HERE"
      ]
    },
    {
      "cell_type": "markdown",
      "metadata": {
        "id": "x_5twYL1ML5l"
      },
      "source": [
        "#### Question 4.2 : What is the cluster assignment (cluster ID - varying between 0 and the optimal number found previously) for a person with an income of 120K, a post-graduate degree and 36 months on book?"
      ]
    },
    {
      "cell_type": "code",
      "execution_count": null,
      "metadata": {
        "id": "vJIku477ML5l"
      },
      "outputs": [],
      "source": [
        "# YOUR CODE HERE\n",
        "result = ...\n",
        "print(f\"Cluster assignment for the person described above: {result}\")"
      ]
    },
    {
      "cell_type": "markdown",
      "metadata": {
        "id": "zB2mIaG-ML5l"
      },
      "source": [
        "#### Question 4.3 : Get the cluster centroid for the person described above.\n",
        "The get the centroid of a cluster, you can use the [`cluster_centers_`](https://scikit-learn.org/stable/modules/generated/sklearn.cluster.KMeans.html) attribute of the KMeans object."
      ]
    },
    {
      "cell_type": "code",
      "execution_count": null,
      "metadata": {
        "id": "jRdBFNUJML5m"
      },
      "outputs": [],
      "source": [
        "# YOUR CODE HERE"
      ]
    }
  ],
  "metadata": {
    "colab": {
      "provenance": [],
      "include_colab_link": true
    },
    "kernelspec": {
      "display_name": "base",
      "language": "python",
      "name": "python3"
    },
    "language_info": {
      "codemirror_mode": {
        "name": "ipython",
        "version": 3
      },
      "file_extension": ".py",
      "mimetype": "text/x-python",
      "name": "python",
      "nbconvert_exporter": "python",
      "pygments_lexer": "ipython3",
      "version": "3.9.15"
    },
    "vscode": {
      "interpreter": {
        "hash": "b0cc462c96df3621bcc58e01fadcdf9264a069c5c4bbf07201077bb349d3c6bf"
      }
    }
  },
  "nbformat": 4,
  "nbformat_minor": 0
}